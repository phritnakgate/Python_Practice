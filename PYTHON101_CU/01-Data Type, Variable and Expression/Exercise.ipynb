{
 "cells": [
  {
   "cell_type": "code",
   "execution_count": null,
   "metadata": {},
   "outputs": [],
   "source": [
    "#Pg7_1\n",
    "try:\n",
    "    h = int(input(\"Enter hours: \"))\n",
    "    m = int(input(\"Enter minutes: \"))\n",
    "    s = int(input(\"Enter seconds: \"))\n",
    "    totalsec = h*3600 + m*60 + s\n",
    "    print(\"Total seconds: \", totalsec)\n",
    "except Exception:\n",
    "    print(\"Error, please enter integer values\")"
   ]
  },
  {
   "cell_type": "code",
   "execution_count": null,
   "metadata": {},
   "outputs": [],
   "source": [
    "#Pg7_2\n",
    "import math\n",
    "try:\n",
    "    x = float(input(\"Enter a number: \"))\n",
    "    if x <= 0:\n",
    "        print(\"Error, please enter positive value\")\n",
    "    else:\n",
    "        y = 2 - x + ((3/7)*(x**2)) - ((5/11)*(x**3)) + math.log10(x)\n",
    "        print(\"The answer is  \", y)\n",
    "except Exception:\n",
    "        print(\"Error, please enter number values\")"
   ]
  },
  {
   "cell_type": "code",
   "execution_count": null,
   "metadata": {},
   "outputs": [],
   "source": [
    "#Pg8_1\n",
    "x = 1\n",
    "try:\n",
    "    a = float(input(\"Enter a number: \"))\n",
    "    for i in range(4):\n",
    "        x = (x + a/x)/2\n",
    "    print(\"The answer is %.2f\"%x)\n",
    "except Exception:\n",
    "    print(\"Error, please enter values >= 0\")"
   ]
  },
  {
   "cell_type": "code",
   "execution_count": null,
   "metadata": {},
   "outputs": [],
   "source": [
    "#Pg8_2\n",
    "import numpy as np\n",
    "try:    \n",
    "    v1,v2,v3 = input(\"Enter Vector1(i,j,k): \").split()\n",
    "    u1,u2,u3 = input(\"Enter Vector2(i,j,k): \").split()\n",
    "    vec1 = np.array([float(v1),float(v2),float(v3)])\n",
    "    vec2 = np.array([float(u1),float(u2),float(u3)])\n",
    "    dpd = np.dot(vec1,vec2)\n",
    "    print(\"The dot product is %.2f\"%dpd)\n",
    "except Exception:\n",
    "    print(\"Value Error, please enter number values\")"
   ]
  },
  {
   "cell_type": "code",
   "execution_count": null,
   "metadata": {},
   "outputs": [],
   "source": [
    "#Pg8_3\n",
    "import math\n",
    "try:    \n",
    "    x1,y1,x2,y2 = input(\"Enter two points(x1,y1,x2,y2): \").split()\n",
    "    p = [float(x1),float(y1)]\n",
    "    q = [float(x2),float(y2)]\n",
    "    dist = math.dist(p,q)\n",
    "    print(\"The distance is %.2f\"%dist)\n",
    "except Exception:\n",
    "    print(\"Value Error, please enter number values\")"
   ]
  },
  {
   "cell_type": "code",
   "execution_count": null,
   "metadata": {},
   "outputs": [],
   "source": [
    "#Pg8_4\n",
    "import math\n",
    "try:\n",
    "    r,theta = input(\"Enter polar form (r,cis): \").split()\n",
    "    x = float(r)*math.cos(math.radians(float(theta)))\n",
    "    y = float(r)*math.sin(math.radians(float(theta)))\n",
    "    print(\"The cartesian form is (%.2f,%.2f)\"%(x,y))\n",
    "except Exception:\n",
    "    print(\"Value Error, please enter number values\")"
   ]
  },
  {
   "cell_type": "code",
   "execution_count": null,
   "metadata": {},
   "outputs": [],
   "source": [
    "#Pg8_5\n",
    "import math\n",
    "try:\n",
    "    x,y = input(\"Enter cartesian form (x,y): \").split()\n",
    "    r = math.sqrt(float(x)**2 + float(y)**2)\n",
    "    theta = math.atan2(float(y),float(x))\n",
    "    print(\"The polar form is (%.2f,%.2f)\"%(r,theta))\n",
    "except Exception:\n",
    "    print(\"Value Error, please enter number values\")"
   ]
  },
  {
   "cell_type": "code",
   "execution_count": null,
   "metadata": {},
   "outputs": [],
   "source": [
    "#Pg9_1\n",
    "try:\n",
    "    a,b,c,d,e = input(\"Enter five numbers: \").split()\n",
    "    total = float(a) + float(b) + float(c) + float(d) + float(e)\n",
    "    avg = total/5\n",
    "    print(\"The average is %.2f\"%avg)\n",
    "except:\n",
    "    print(\"Value Error, please enter number values\")"
   ]
  },
  {
   "cell_type": "code",
   "execution_count": null,
   "metadata": {},
   "outputs": [],
   "source": [
    "#Pg9_2\n",
    "a,b,c = input(\"Enter 2 string 1 rounds for loop(ex. v o 5): \").split()\n",
    "result = str(a) + str(b) + str(c)\n",
    "for i in range(int(c)):\n",
    "    result = result + str(a) + str(b)\n",
    "print(result)    \n"
   ]
  }
 ],
 "metadata": {
  "interpreter": {
   "hash": "26de051ba29f2982a8de78e945f0abaf191376122a1563185a90213a26c5da77"
  },
  "kernelspec": {
   "display_name": "Python 3.10.4 64-bit",
   "language": "python",
   "name": "python3"
  },
  "language_info": {
   "codemirror_mode": {
    "name": "ipython",
    "version": 3
   },
   "file_extension": ".py",
   "mimetype": "text/x-python",
   "name": "python",
   "nbconvert_exporter": "python",
   "pygments_lexer": "ipython3",
   "version": "3.10.4"
  },
  "orig_nbformat": 4
 },
 "nbformat": 4,
 "nbformat_minor": 2
}
